{
 "cells": [
  {
   "cell_type": "markdown",
   "id": "3a126f97-6f5c-45eb-8082-1e5a99d7c064",
   "metadata": {},
   "source": [
    "# EEG Project Data Exploration\n",
    "\n",
    "EEG reflects the coordinated activity of millions of neurons near a non-invasive scalp electrode. Because these are scalp potentials, necessarily, they have relatively poor spatiotemporal resolution compared to other neural recording techniques. EEG is believed to be recording dipoles that are transmitted through the scalp.\n",
    "\n",
    "For each subject, they record from 22 EEG electrodes while the user imagines performing one of four actions. Therefore, this is a classification task (with four outcome classes), where the EEG is used to determine what action the subject was imagining.\n",
    "\n",
    "The data was processed so that it is possible to load the data with numpy. Further, trials with NaN's have been removed."
   ]
  },
  {
   "cell_type": "code",
   "execution_count": 7,
   "id": "2ff28aed-39f8-4d52-9f85-0f787121725f",
   "metadata": {},
   "outputs": [],
   "source": [
    "# imports\n",
    "import numpy as np"
   ]
  },
  {
   "cell_type": "code",
   "execution_count": 8,
   "id": "eae0321e-da97-4088-baa6-669c80f880f3",
   "metadata": {},
   "outputs": [],
   "source": [
    "X_test = np.load(\"project_data/project/X_test.npy\")\n",
    "y_test = np.load(\"project_data/project/y_test.npy\")\n",
    "person_test = np.load(\"project_data/project/person_test.npy\")\n",
    "\n",
    "X_train_valid = np.load(\"project_data/project/X_train_valid.npy\")\n",
    "y_train_valid = np.load(\"project_data/project/y_train_valid.npy\")\n",
    "person_train_valid = np.load(\"project_data/project/person_train_valid.npy\")"
   ]
  },
  {
   "cell_type": "markdown",
   "id": "034a49d0-d9a9-499f-a927-2354912cec3f",
   "metadata": {},
   "source": [
    "### Shape of Data"
   ]
  },
  {
   "cell_type": "code",
   "execution_count": 9,
   "id": "836258e5-3248-430d-a21e-cb5baf749934",
   "metadata": {},
   "outputs": [
    {
     "name": "stdout",
     "output_type": "stream",
     "text": [
      "Training/Valid data shape: (2115, 22, 1000)\n",
      "Test data shape: (443, 22, 1000)\n",
      "Training/Valid target shape: (2115,)\n",
      "Test target shape: (443,)\n",
      "Person train/valid shape: (2115, 1)\n",
      "Person test shape: (443, 1)\n"
     ]
    }
   ],
   "source": [
    "print('Training/Valid data shape: {}'.format(X_train_valid.shape))\n",
    "print('Test data shape: {}'.format(X_test.shape))\n",
    "print('Training/Valid target shape: {}'.format(y_train_valid.shape))\n",
    "print('Test target shape: {}'.format(y_test.shape))\n",
    "print('Person train/valid shape: {}'.format(person_train_valid.shape))\n",
    "print('Person test shape: {}'.format(person_test.shape))"
   ]
  },
  {
   "cell_type": "markdown",
   "id": "3d423d32-54db-4a90-a818-199a50a7b57a",
   "metadata": {},
   "source": [
    "This indicates that there are 2115 trials; each trial has corresponding EEG data from 22 electrodes over 1000 time bins. Please look at the dataset documentation to know more about the data. E.g., Table 2 lists what class labels (769, 770, 771, 772) correspond to. The person files correspond to the subject performing the task, ranging from 0-8 (inclusive) and may be useful should you want to see how well you can classify on individual subjects. In the original data / documentation, you may see that there are 25 channels. We have removed 3 of the channels (so that there are 22) because those 3 channels were for recording eye movements, not brain activity"
   ]
  }
 ],
 "metadata": {
  "kernelspec": {
   "display_name": "Python 3 (ipykernel)",
   "language": "python",
   "name": "python3"
  },
  "language_info": {
   "codemirror_mode": {
    "name": "ipython",
    "version": 3
   },
   "file_extension": ".py",
   "mimetype": "text/x-python",
   "name": "python",
   "nbconvert_exporter": "python",
   "pygments_lexer": "ipython3",
   "version": "3.10.1"
  }
 },
 "nbformat": 4,
 "nbformat_minor": 5
}
